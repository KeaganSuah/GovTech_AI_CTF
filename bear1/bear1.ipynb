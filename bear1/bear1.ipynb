{
  "cells": [
    {
      "cell_type": "markdown",
      "id": "introduction",
      "metadata": {},
      "source": [
        "## Introduction\n",
        "\n",
        "In the rapidly evolving field of AI security, the ability to scrutinize and interpret data is indispensable. Whether it's identifying potential security threats, understanding anomalous behavior, or uncovering hidden patterns, the insights gained from data investigation are pivotal in developing robust AI systems that are secure and resilient against adversarial attacks.\n",
        "\n",
        "This challenge is crafted to introduce you to the world of offensive AI security through a hands-on approach. By participating, you will:\n",
        "\n",
        "- **Gain practical experience with pandas**, a powerful Python library for data analysis, enabling you to manipulate and explore datasets efficiently.\n",
        "- **Learn basic techniques for data manipulation and analysis** that are essential in identifying vulnerabilities and potential threats within datasets.\n",
        "- **Discover how to extract hidden information from data**—a skill critical in many aspects of cybersecurity and AI security research.\n",
        "Whether you're a beginner eager to dive into the world of data analysis and AI security, or an experienced practitioner looking to sharpen your skills, this challenge offers valuable insights and techniques. Armed with the dataset provided, your task is to unveil a hidden word, employing your newfound skills in data manipulation and analysis with pandas.\n",
        "\n",
        "If this is your first time using pandas there are many resources out there to get started. You can start with a few here:\n",
        "- Official pandas documentation: https://pandas.pydata.org/docs/getting_started/index.html\n",
        "- Youtube tutorial https://www.youtube.com/watch?v=_Eb0utIRdkw"
      ]
    },
    {
      "cell_type": "markdown",
      "id": "objective",
      "metadata": {},
      "source": [
        "## Objective\n",
        "\n",
        "This dataset contains historic records of the local bear population. The path to the flag is revealed by understanding the unique traits of each bear at their most expressive moments. Can you use your pandas skills to reveal the flag?\n",
        "\n",
        "The flag format is {WORD}, where WORD is what you will uncover. You will send this WORD to the score api to recieve the flag. Pay close attention to the details in your dataset and think creatively about how to interpret them."
      ]
    },
    {
      "cell_type": "markdown",
      "id": "setup_instructions",
      "metadata": {},
      "source": [
        "## Setup\n",
        "\n",
        "In order to interact with the challenge, you will need your API Key.\n",
        "\n",
        "You can find this key in the Crucible platform in this challenge.\n",
        "\n",
        "[https://crucible.dreadnode.io/challenges/bear1](https://crucible.dreadnode.io/challenges/bear1)"
      ]
    },
    {
      "cell_type": "code",
      "execution_count": 1,
      "id": "api_key",
      "metadata": {},
      "outputs": [],
      "source": [
        "CRUCIBLE_API_KEY = \"OUR_TEAM_API_KEY\"  # Replace with your actual API key"
      ]
    },
    {
      "cell_type": "markdown",
      "id": "required_packages",
      "metadata": {},
      "source": [
        "### Install Required Packages\n",
        "\n",
        "Install the required packages.\n"
      ]
    },
    {
      "cell_type": "code",
      "execution_count": 2,
      "id": "imports",
      "metadata": {},
      "outputs": [
        {
          "name": "stdout",
          "output_type": "stream",
          "text": [
            "Note: you may need to restart the kernel to use updated packages.\n",
            "Note: you may need to restart the kernel to use updated packages.\n",
            "Note: you may need to restart the kernel to use updated packages.\n",
            "Note: you may need to restart the kernel to use updated packages.\n"
          ]
        }
      ],
      "source": [
        "%pip install requests --quiet \n",
        "%pip install numpy --quiet \n",
        "%pip install matplotlib --quiet \n",
        "%pip install pandas --quiet"
      ]
    },
    {
      "cell_type": "markdown",
      "id": "notebook_variables",
      "metadata": {},
      "source": [
        "### Set Notebook Variables\n",
        "\n",
        "Set the variables used throughout the notebook\n"
      ]
    },
    {
      "cell_type": "code",
      "execution_count": 3,
      "id": "setup",
      "metadata": {},
      "outputs": [],
      "source": [
        "CHALLENGE = \"bear1\"\n",
        "CRUCIBLE_URL = \"https://crucible.dreadnode.io\"\n",
        "CHALLENGE_URL = \"https://bear1.crucible.dreadnode.io\"\n",
        "ARTIFACT_FILES = ['bear.csv']"
      ]
    },
    {
      "cell_type": "markdown",
      "id": "download_data",
      "metadata": {},
      "source": [
        "### Download Data\n",
        "\n",
        "Before diving into data analysis, you'll need to download the necessary dataset for this challenge."
      ]
    },
    {
      "cell_type": "code",
      "execution_count": 4,
      "id": "artifacts",
      "metadata": {},
      "outputs": [
        {
          "name": "stdout",
          "output_type": "stream",
          "text": [
            "bear.csv was successfully downloaded\n"
          ]
        }
      ],
      "source": [
        "import requests\n",
        "\n",
        "\n",
        "for artifact in ARTIFACT_FILES:\n",
        "    url = f\"{CRUCIBLE_URL}/api/artifacts/{CHALLENGE}/{artifact}\"\n",
        "    headers={\"X-API-Key\": CRUCIBLE_API_KEY}\n",
        "    response = requests.get(url, headers=headers)\n",
        "    if response.status_code == 200:\n",
        "        with open(artifact, \"wb\") as file:\n",
        "            file.write(response.content)\n",
        "        print(f\"{artifact} was successfully downloaded\")\n",
        "    else:\n",
        "        print(f\"Failed to download {artifact}\")"
      ]
    },
    {
      "cell_type": "markdown",
      "id": "placeholder_markdown",
      "metadata": {},
      "source": [
        "## Let's go ...\n",
        "\n",
        "To successfully navigate this challenge we must do some data analysis. We will tackle this in the following steps:\n",
        "\n",
        "1. **Understanding the Data**: Utilize pandas to load and get familiar with the dataset.\n",
        "2. **Exploratory Data Analysis (EDA)**: Perform an exploratory analysis on each column in the dataset, uncovering patterns, distributions, and unique traits.\n",
        "3. **Sorting and Filtering**: Learn techniques for sorting and filtering the dataset to isolate relevant information.\n",
        "4. **Revealing the Hidden Flag**: Synthesize our findings to identify the hidden flag within the data."
      ]
    },
    {
      "cell_type": "markdown",
      "id": "e80f0a8f",
      "metadata": {},
      "source": [
        "Once the files are downloaded, you can verify the contents of bear.csv by checking the first few lines:\n",
        "\n",
        "This will display the first 10 lines of your CSV file, which should look like this:\n",
        "\n",
        "```\n",
        "tune,bear,val\n",
        "22.55263063165446,Kodiak,p\n",
        "82.06112442587525,Grizzly,g\n",
        "94.8957988728884,Black,Q\n",
        "62.18038848300604,Panda,a\n",
        "41.19384582347789,Black,L\n",
        "11.232319965271387,Sun,X\n",
        "85.11257757600849,Panda,R\n",
        "85.69846024859997,Sloth,N\n",
        "46.777891017199,Brown,o\n",
        "```"
      ]
    },
    {
      "cell_type": "code",
      "execution_count": 5,
      "id": "placeholder_code",
      "metadata": {},
      "outputs": [
        {
          "name": "stdout",
          "output_type": "stream",
          "text": [
            "tune,bear,val\n",
            "22.55263063165446,Kodiak,p\n",
            "82.06112442587525,Grizzly,g\n",
            "94.8957988728884,Black,Q\n",
            "62.18038848300604,Panda,a\n",
            "41.19384582347789,Black,L\n",
            "11.232319965271387,Sun,X\n",
            "85.11257757600849,Panda,R\n",
            "85.69846024859997,Sloth,N\n",
            "46.777891017199,Brown,o\n"
          ]
        }
      ],
      "source": [
        "!head bear.csv"
      ]
    },
    {
      "cell_type": "markdown",
      "id": "e78ee971",
      "metadata": {},
      "source": [
        "## Loading in Our Dataset\n",
        "\n",
        "Now, let's load the dataset into a pandas DataFrame and examine the first few rows to understand its structure better. We will use pandas' `read_csv` function for this purpose.\n",
        "\n",
        "This code sets up your data analysis environment with pandas, NumPy, and matplotlib, and loads your CSV data into a pandas DataFrame named df. Running `df.head()` will show the first five rows of your dataset, allowing you to start familiarizing yourself with the data you will be analyzing."
      ]
    },
    {
      "cell_type": "code",
      "execution_count": 6,
      "id": "b041e0cd",
      "metadata": {},
      "outputs": [
        {
          "data": {
            "text/html": [
              "<div>\n",
              "<style scoped>\n",
              "    .dataframe tbody tr th:only-of-type {\n",
              "        vertical-align: middle;\n",
              "    }\n",
              "\n",
              "    .dataframe tbody tr th {\n",
              "        vertical-align: top;\n",
              "    }\n",
              "\n",
              "    .dataframe thead th {\n",
              "        text-align: right;\n",
              "    }\n",
              "</style>\n",
              "<table border=\"1\" class=\"dataframe\">\n",
              "  <thead>\n",
              "    <tr style=\"text-align: right;\">\n",
              "      <th></th>\n",
              "      <th>tune</th>\n",
              "      <th>bear</th>\n",
              "      <th>val</th>\n",
              "    </tr>\n",
              "  </thead>\n",
              "  <tbody>\n",
              "    <tr>\n",
              "      <th>0</th>\n",
              "      <td>22.552631</td>\n",
              "      <td>Kodiak</td>\n",
              "      <td>p</td>\n",
              "    </tr>\n",
              "    <tr>\n",
              "      <th>1</th>\n",
              "      <td>82.061124</td>\n",
              "      <td>Grizzly</td>\n",
              "      <td>g</td>\n",
              "    </tr>\n",
              "    <tr>\n",
              "      <th>2</th>\n",
              "      <td>94.895799</td>\n",
              "      <td>Black</td>\n",
              "      <td>Q</td>\n",
              "    </tr>\n",
              "    <tr>\n",
              "      <th>3</th>\n",
              "      <td>62.180388</td>\n",
              "      <td>Panda</td>\n",
              "      <td>a</td>\n",
              "    </tr>\n",
              "    <tr>\n",
              "      <th>4</th>\n",
              "      <td>41.193846</td>\n",
              "      <td>Black</td>\n",
              "      <td>L</td>\n",
              "    </tr>\n",
              "  </tbody>\n",
              "</table>\n",
              "</div>"
            ],
            "text/plain": [
              "        tune     bear val\n",
              "0  22.552631   Kodiak   p\n",
              "1  82.061124  Grizzly   g\n",
              "2  94.895799    Black   Q\n",
              "3  62.180388    Panda   a\n",
              "4  41.193846    Black   L"
            ]
          },
          "execution_count": 6,
          "metadata": {},
          "output_type": "execute_result"
        }
      ],
      "source": [
        "import pandas as pd\n",
        "import numpy as np\n",
        "import matplotlib.pyplot as plt # For data visualization\n",
        "\n",
        "df = pd.read_csv('bear.csv')\n",
        "df.head()"
      ]
    },
    {
      "cell_type": "markdown",
      "id": "cc47a6df",
      "metadata": {},
      "source": [
        "## Step 2: Understanding the Data\n",
        "\n",
        "In this step, we will take a closer look at the dataset to understand its structure and the types of data it contains. The dataset features three columns, each representing different types of information:\n",
        "\n",
        "- `tune`: This column contains numeric data, representing some measured attribute of the bears.\n",
        "- `bear`: This column is categorical and lists types of bears.\n",
        "- `val`: A column of text characters, potentially encoding information.\n",
        "\n",
        "### Examining Data Types and Missing Values\n",
        "\n",
        "Before diving deeper, it's important to confirm the data types and check for any missing values to ensure the integrity of our analysis."
      ]
    },
    {
      "cell_type": "code",
      "execution_count": 7,
      "id": "c6712b82",
      "metadata": {},
      "outputs": [
        {
          "name": "stdout",
          "output_type": "stream",
          "text": [
            "<class 'pandas.core.frame.DataFrame'>\n",
            "RangeIndex: 10000 entries, 0 to 9999\n",
            "Data columns (total 3 columns):\n",
            " #   Column  Non-Null Count  Dtype  \n",
            "---  ------  --------------  -----  \n",
            " 0   tune    10000 non-null  float64\n",
            " 1   bear    10000 non-null  object \n",
            " 2   val     9999 non-null   object \n",
            "dtypes: float64(1), object(2)\n",
            "memory usage: 234.5+ KB\n",
            "None\n"
          ]
        }
      ],
      "source": [
        "# Display data types and check for missing values\n",
        "print(df.info())"
      ]
    },
    {
      "cell_type": "markdown",
      "id": "e3fce099",
      "metadata": {},
      "source": [
        "### Distribution of Numeric Data\n",
        "\n",
        "Let's visualize the distribution of the tune column to understand its range and general behavior."
      ]
    },
    {
      "cell_type": "code",
      "execution_count": 8,
      "id": "a8bef4b6",
      "metadata": {},
      "outputs": [
        {
          "data": {
            "image/png": "[encoded data removed]",
            "text/plain": [
              "<Figure size 640x480 with 1 Axes>"
            ]
          },
          "metadata": {},
          "output_type": "display_data"
        }
      ],
      "source": [
        "# Plotting the distribution of 'tune'\n",
        "import matplotlib.pyplot as plt\n",
        "\n",
        "df['tune'].plot(kind='hist', bins=25, title='Distribution of `tune` Feature')\n",
        "plt.xlabel('Tune Value')\n",
        "plt.ylabel('Frequency')\n",
        "plt.show()"
      ]
    },
    {
      "cell_type": "markdown",
      "id": "c6a9eea1",
      "metadata": {},
      "source": [
        "### Analyzing Categorical Data\n",
        "\n",
        "Next, we'll explore the bear column by examining the frequency of each bear type. This can help us understand which bear types are more common in the dataset."
      ]
    },
    {
      "cell_type": "code",
      "execution_count": 9,
      "id": "87bcfab8",
      "metadata": {},
      "outputs": [
        {
          "data": {
            "image/png": "[encoded data removed]",
            "text/plain": [
              "<Figure size 640x480 with 1 Axes>"
            ]
          },
          "metadata": {},
          "output_type": "display_data"
        }
      ],
      "source": [
        "# Plotting the frequency of bear types\n",
        "df['bear'].value_counts().plot(kind='barh', title='Frequency of Bear Types')\n",
        "plt.xlabel('Number of Occurrences')\n",
        "plt.ylabel('Bear Type')\n",
        "plt.show()"
      ]
    },
    {
      "cell_type": "markdown",
      "id": "8717b8cc",
      "metadata": {},
      "source": [
        "This bar chart provides a clear view of how many times each bear type appears, highlighting any significant imbalances in bear representation. We can see that while there are some differences in the number of rows for each bear type, no one bear appears to be significantly over or under represented."
      ]
    },
    {
      "cell_type": "markdown",
      "id": "6c9b524e",
      "metadata": {},
      "source": [
        "## Exploring Text Data\n",
        "\n",
        "Finally, let's explore the val column, which contains text characters. We'll look at the unique characters present, which might be crucial for uncovering hidden patterns later. Because we know the flag will be a text string, this column may be important in solving the puzzle."
      ]
    },
    {
      "cell_type": "code",
      "execution_count": 10,
      "id": "60a57808",
      "metadata": {},
      "outputs": [
        {
          "name": "stdout",
          "output_type": "stream",
          "text": [
            "Unique characters in the 'val' column: ['p' 'g' 'Q' 'a' 'L' 'X' 'R' 'N' 'o' 'S' 'B' 'u' 'j' 'r' 'w' 'k' '0' '{'\n",
            " '1' '6' 'i' '8' 'T' '3' 'h' 'V' 'I' 'Z' 'A' 'E' 'O' 'd' 's' 'l' 'v' '7'\n",
            " '4' 'm' 'f' 'q' 'n' 'e' '}' 'M' 'y' 'x' 'D' 'z' 't' 'P' 'c' '9' '2' '5'\n",
            " 'K' 'Y' 'J' 'H' 'G' 'C' 'W' 'b' 'F' 'U' nan]\n"
          ]
        }
      ],
      "source": [
        "# Displaying unique characters in the 'val' column\n",
        "unique_values = df['val'].unique()\n",
        "print(\"Unique characters in the 'val' column:\", unique_values)"
      ]
    },
    {
      "cell_type": "markdown",
      "id": "d1f9c8fe",
      "metadata": {},
      "source": [
        "Understanding these characters and their distribution might be key in decoding any hidden messages or flags in the dataset."
      ]
    },
    {
      "cell_type": "markdown",
      "id": "1145df2a",
      "metadata": {},
      "source": [
        "## Step 3: Sorting and Filtering the data.\n",
        "\n",
        "In data analysis, especially in challenges like this, sorting and filtering data are essential techniques to uncover hidden information or patterns. The clues suggest that the key to decoding the flag lies in manipulating the dataset in specific ways. Let’s explore how to use some of pandas' powerful functionalities, such as `sort_values` and `groupby`, to potentially reveal the hidden flag.\n",
        "\n",
        "### Understanding Groupby Aggregations on a Pandas DataFrame\n",
        "\n",
        "The `groupby` method is incredibly useful for segmenting data into groups and applying a function to each group independently. This can help in summarizing or analyzing data separately within subsets defined by one or more attributes."
      ]
    },
    {
      "cell_type": "code",
      "execution_count": 11,
      "id": "61dc6a15",
      "metadata": {},
      "outputs": [
        {
          "name": "stdout",
          "output_type": "stream",
          "text": [
            "bear\n",
            "Black         48.897808\n",
            "Brown         48.998561\n",
            "Grizzly       48.285663\n",
            "Kodiak        50.300696\n",
            "Panda         49.700175\n",
            "Polar         49.773548\n",
            "Sloth         50.393166\n",
            "Spectacled    50.358964\n",
            "Sun           50.988645\n",
            "Name: tune, dtype: float64\n"
          ]
        }
      ],
      "source": [
        "# Group by the bear type and aggregate to the average `tune` value\n",
        "mean_tunes = df.groupby('bear')['tune'].mean()\n",
        "print(mean_tunes)"
      ]
    },
    {
      "cell_type": "markdown",
      "id": "b95a65db",
      "metadata": {},
      "source": [
        "This code groups the data by bear type and calculates the average tune value for each type. Such aggregations can reveal differences in measurements across categories that might be significant in understanding the data better or even solving the challenge.\n",
        "\n",
        "### Sorting the Pandas DataFrame\n",
        "\n",
        "Sorting data can highlight the highest or lowest values in a dataset, or bring out the most significant entries according to a particular column."
      ]
    },
    {
      "cell_type": "code",
      "execution_count": 12,
      "id": "41f139e0",
      "metadata": {},
      "outputs": [
        {
          "name": "stdout",
          "output_type": "stream",
          "text": [
            "          tune        bear val\n",
            "3499  0.006994       Sloth   O\n",
            "7192  0.012673       Sloth   t\n",
            "8687  0.016241     Grizzly   C\n",
            "6876  0.016453         Sun   F\n",
            "4472  0.021788  Spectacled   y\n"
          ]
        }
      ],
      "source": [
        "# Sorting the DataFrame by 'tune' in descending order to see the top values\n",
        "top_tunes = df.sort_values('tune').head(5)\n",
        "print(top_tunes)"
      ]
    },
    {
      "cell_type": "markdown",
      "id": "6d7c550c",
      "metadata": {},
      "source": [
        "This snippet sorts the entire DataFrame based on the tune column in descending order and displays the top 5 records. Sorting is particularly useful when you're looking for outliers or specific records that stand out in the dataset, which could be crucial in challenges like this where a single record might contain the key to the flag.\n",
        "\n",
        "### Filtering Data for Specific Conditions\n",
        "Sometimes, the clue to solving a challenge lies in isolating data based on specific conditions. Pandas allows for complex querying and filtering operations that can be pivotal in such scenarios."
      ]
    },
    {
      "cell_type": "code",
      "execution_count": 13,
      "id": "48e2315b",
      "metadata": {},
      "outputs": [
        {
          "name": "stdout",
          "output_type": "stream",
          "text": [
            "         tune     bear val\n",
            "2   94.895799    Black   Q\n",
            "20  93.273906  Grizzly   {\n",
            "57  99.287404   Kodiak   1\n",
            "64  91.109212    Black   n\n",
            "66  99.240491    Brown   7\n"
          ]
        }
      ],
      "source": [
        "# Filtering to find entries where 'tune' values are above a certain threshold\n",
        "high_tune_bears = df[df['tune'] > 90]\n",
        "print(high_tune_bears.head(5))"
      ]
    },
    {
      "cell_type": "markdown",
      "id": "1100c0d9",
      "metadata": {},
      "source": [
        "This filter operation selects records where the tune values exceed 90, possibly isolating important data points. Exploring the characteristics of these high tune entries could guide us towards the flag."
      ]
    },
    {
      "cell_type": "markdown",
      "id": "5c9be8a4",
      "metadata": {},
      "source": [
        "### Applying Multiple Filters\n",
        "\n",
        "You can also apply multiple conditions to narrow down the data further."
      ]
    },
    {
      "cell_type": "code",
      "execution_count": 14,
      "id": "96d1b4ba",
      "metadata": {},
      "outputs": [
        {
          "name": "stdout",
          "output_type": "stream",
          "text": [
            "         tune    bear val\n",
            "44  64.998736  Kodiak   w\n",
            "54  87.814974  Kodiak   g\n",
            "57  99.287404  Kodiak   1\n",
            "91  95.804493  Kodiak   h\n",
            "96  66.889912  Kodiak   Z\n"
          ]
        }
      ],
      "source": [
        "# Applying multiple conditions to find a specific subset of data\n",
        "specific_bears = df[(df['tune'] > 50) & (df['bear'] == 'Kodiak')]\n",
        "print(specific_bears.head(5))"
      ]
    },
    {
      "cell_type": "markdown",
      "id": "badebf5c",
      "metadata": {},
      "source": [
        "This example shows how to use multiple conditions to filter the data, which can be incredibly useful when trying to decode complex patterns or requirements set forth by a challenge.\n",
        "\n",
        "By understanding and utilizing these data manipulation techniques, you can explore various hypotheses or follow clues more effectively. Experimenting with different aggregations, sorting methods, and filters can unveil patterns that are not immediately obvious but are key to solving data-centric challenges.\n",
        "\n"
      ]
    },
    {
      "cell_type": "markdown",
      "id": "9faece25",
      "metadata": {},
      "source": [
        "## Step 4: Solving the Challenge\n",
        "\n",
        "Now that we've familiarized ourselves with the dataset and learned how to manipulate the data using various pandas functions, it's time to apply these skills to solve the challenge and decode the hidden flag.\n",
        "\n",
        "### Analyzing and Identifying Key Data\n",
        "\n",
        "The clues suggest that the secret word is encoded in a unique way related to the characteristics of each bear type at specific `tune` values. We hypothesize that sorting the data by 'tune' and examining the highest values for each bear type might reveal this secret word."
      ]
    },
    {
      "cell_type": "code",
      "execution_count": 15,
      "id": "580b2c67",
      "metadata": {},
      "outputs": [
        {
          "data": {
            "text/html": [
              "<div>\n",
              "<style scoped>\n",
              "    .dataframe tbody tr th:only-of-type {\n",
              "        vertical-align: middle;\n",
              "    }\n",
              "\n",
              "    .dataframe tbody tr th {\n",
              "        vertical-align: top;\n",
              "    }\n",
              "\n",
              "    .dataframe thead th {\n",
              "        text-align: right;\n",
              "    }\n",
              "</style>\n",
              "<table border=\"1\" class=\"dataframe\">\n",
              "  <thead>\n",
              "    <tr style=\"text-align: right;\">\n",
              "      <th></th>\n",
              "      <th>tune</th>\n",
              "      <th>bear</th>\n",
              "      <th>val</th>\n",
              "    </tr>\n",
              "  </thead>\n",
              "  <tbody>\n",
              "    <tr>\n",
              "      <th>7160</th>\n",
              "      <td>99.975820</td>\n",
              "      <td>Spectacled</td>\n",
              "      <td>}</td>\n",
              "    </tr>\n",
              "    <tr>\n",
              "      <th>6718</th>\n",
              "      <td>99.974140</td>\n",
              "      <td>Black</td>\n",
              "      <td>{</td>\n",
              "    </tr>\n",
              "    <tr>\n",
              "      <th>2712</th>\n",
              "      <td>99.973701</td>\n",
              "      <td>Brown</td>\n",
              "      <td>B</td>\n",
              "    </tr>\n",
              "    <tr>\n",
              "      <th>4450</th>\n",
              "      <td>99.967065</td>\n",
              "      <td>Grizzly</td>\n",
              "      <td>A</td>\n",
              "    </tr>\n",
              "    <tr>\n",
              "      <th>5667</th>\n",
              "      <td>99.949576</td>\n",
              "      <td>Kodiak</td>\n",
              "      <td>M</td>\n",
              "    </tr>\n",
              "  </tbody>\n",
              "</table>\n",
              "</div>"
            ],
            "text/plain": [
              "           tune        bear val\n",
              "7160  99.975820  Spectacled   }\n",
              "6718  99.974140       Black   {\n",
              "2712  99.973701       Brown   B\n",
              "4450  99.967065     Grizzly   A\n",
              "5667  99.949576      Kodiak   M"
            ]
          },
          "execution_count": 15,
          "metadata": {},
          "output_type": "execute_result"
        }
      ],
      "source": [
        "# Sorting the data by 'tune' in descending order to focus on the highest values\n",
        "sorted_data = df.sort_values('tune', ascending=False)\n",
        "sorted_data.head()"
      ]
    },
    {
      "cell_type": "markdown",
      "id": "79a71185",
      "metadata": {},
      "source": [
        "### Extracting Critical Information\n",
        "\n",
        "Next, we utilize the `groupby` method combined with `head(1)` to capture the top entry for each bear type, which we suspect holds the parts of our hidden word."
      ]
    },
    {
      "cell_type": "code",
      "execution_count": 16,
      "id": "d07e8d89",
      "metadata": {},
      "outputs": [
        {
          "name": "stdout",
          "output_type": "stream",
          "text": [
            "           tune        bear  val\n",
            "6718  99.974140       Black    {\n",
            "2712  99.973701       Brown    B\n",
            "4450  99.967065     Grizzly    A\n",
            "5667  99.949576      Kodiak    M\n",
            "2630  99.920626       Panda    B\n",
            "2828  99.905925       Polar    O\n",
            "1580  99.915939       Sloth    O\n",
            "7160  99.975820  Spectacled    }\n",
            "8531  99.844511         Sun  NaN\n"
          ]
        }
      ],
      "source": [
        "# Grouping by 'bear' type and taking the top entry for each group based on 'tune' value\n",
        "top_bears = df.sort_values('tune', ascending=False).groupby('bear').head(1)\n",
        "top_bears = top_bears.sort_values('bear')  # Sorting by bear type for easier visualization\n",
        "print(top_bears)"
      ]
    },
    {
      "cell_type": "markdown",
      "id": "5de7cc3e",
      "metadata": {},
      "source": [
        "### Decoding the Flag\n",
        "\n",
        "After extracting the top entry for each bear type, we need to examine these entries closely. We suspect that the val column in these entries might hold the characters of the flag."
      ]
    },
    {
      "cell_type": "code",
      "execution_count": 17,
      "id": "f5985405",
      "metadata": {},
      "outputs": [
        {
          "ename": "TypeError",
          "evalue": "sequence item 8: expected str instance, float found",
          "output_type": "error",
          "traceback": [
            "\u001b[0;31m---------------------------------------------------------------------------\u001b[0m",
            "\u001b[0;31mTypeError\u001b[0m                                 Traceback (most recent call last)",
            "Cell \u001b[0;32mIn[17], line 3\u001b[0m\n\u001b[1;32m      1\u001b[0m \u001b[38;5;66;03m# Extracting characters from the 'val' column\u001b[39;00m\n\u001b[1;32m      2\u001b[0m characters \u001b[38;5;241m=\u001b[39m top_bears[\u001b[38;5;124m'\u001b[39m\u001b[38;5;124mval\u001b[39m\u001b[38;5;124m'\u001b[39m]\u001b[38;5;241m.\u001b[39mtolist()\n\u001b[0;32m----> 3\u001b[0m secret_word \u001b[38;5;241m=\u001b[39m \u001b[38;5;124m'\u001b[39m\u001b[38;5;124m'\u001b[39m\u001b[38;5;241m.\u001b[39mjoin(characters)\n\u001b[1;32m      4\u001b[0m \u001b[38;5;28mprint\u001b[39m(\u001b[38;5;124m\"\u001b[39m\u001b[38;5;124mSecret Word:\u001b[39m\u001b[38;5;124m\"\u001b[39m, secret_word)\n",
            "\u001b[0;31mTypeError\u001b[0m: sequence item 8: expected str instance, float found"
          ]
        }
      ],
      "source": [
        "# Extracting characters from the 'val' column\n",
        "characters = top_bears['val'].tolist()\n",
        "secret_word = ''.join(characters)\n",
        "print(\"Secret Word:\", secret_word)"
      ]
    },
    {
      "cell_type": "code",
      "execution_count": null,
      "id": "38b523ad",
      "metadata": {},
      "outputs": [],
      "source": [
        "secret_word = [c for c in secret_word if c not in ['{','}',' ']]\n",
        "secret_word = ''.join(secret_word)"
      ]
    },
    {
      "cell_type": "markdown",
      "id": "7bfc25cb",
      "metadata": {},
      "source": [
        "This operation gathers all the characters from the val column of the top entries, concatenating them to form the secret word. We then need to format this word according to the flag format provided in the challenge instructions."
      ]
    },
    {
      "cell_type": "markdown",
      "id": "submit_findings_label",
      "metadata": {},
      "source": [
        "## Submit Your Findings\n",
        "\n",
        "Finally, we submit the secret word to the challenge's scoring API to receive the flag. Here's how you can do this:"
      ]
    },
    {
      "cell_type": "code",
      "execution_count": null,
      "id": "submit_findings_code",
      "metadata": {},
      "outputs": [],
      "source": [
        "import requests\n",
        "\n",
        "\n",
        "def query(input_data):\n",
        "    response = requests.post(\n",
        "        f\"{ CHALLENGE_URL }/score\",\n",
        "        headers={\"X-API-Key\": CRUCIBLE_API_KEY},\n",
        "        json={\"data\": input_data}\n",
        "    )\n",
        "    return response.json()\n",
        "\n",
        "response = query(secret_word)\n",
        "print(response)"
      ]
    },
    {
      "cell_type": "markdown",
      "id": "submit_flag_label",
      "metadata": {},
      "source": [
        "## Submit Your Flag\n",
        "\n",
        "You should see the flag returned above the starts with `gAAAA....` congradulations! You can now submit it to the crucible website to \n",
        "\n",
        "1. Uploading on the challenge page by clicking the \"Submit Flag\" button.\n",
        "2. Using the code provided below to submit."
      ]
    },
    {
      "cell_type": "code",
      "execution_count": null,
      "id": "d7497d42",
      "metadata": {},
      "outputs": [],
      "source": [
        "response['flag']"
      ]
    },
    {
      "cell_type": "markdown",
      "id": "9dd5d4e0",
      "metadata": {},
      "source": [
        "## Well Done!\n",
        "\n",
        "Congratulations on solving the challenge! Through this exercise, you've honed your skills in data analysis using pandas, learned to manipulate and interpret complex datasets, and applied these skills in a simulated AI security scenario. Keep practicing these techniques to further enhance your expertise in data-driven cybersecurity tasks."
      ]
    },
    {
      "cell_type": "code",
      "execution_count": null,
      "id": "submit_flag_code",
      "metadata": {},
      "outputs": [],
      "source": [
        "import requests\n",
        "\n",
        "\n",
        "def submit_flag(flag):\n",
        "    url = f\"{CRUCIBLE_URL}/api/challenges/{CHALLENGE}/submit-flag\"\n",
        "    headers = {\"X-API-Key\": CRUCIBLE_API_KEY}\n",
        "    payload = {\"challenge\": CHALLENGE, \"flag\": response['flag']}\n",
        "    response = requests.post(url, headers=headers, json=payload)\n",
        "    if response.status_code == 200:\n",
        "        if response.json().get(\"correct\") is True:\n",
        "            print(\"The flag was correct. Congrats!\")\n",
        "        else:\n",
        "            print(\"The flag was incorrect. Keep trying!\")\n",
        "    else:\n",
        "        print(\"There was an error submitting your flag\")\n",
        "        print(response.text)\n",
        "        \n",
        "flag = \"gAAAAA...\"  # Replace with the flag once you find it\n",
        "submit_flag(flag)"
      ]
    }
  ],
  "metadata": {
    "kernelspec": {
      "display_name": "base",
      "language": "python",
      "name": "python3"
    },
    "language_info": {
      "codemirror_mode": {
        "name": "ipython",
        "version": 3
      },
      "file_extension": ".py",
      "mimetype": "text/x-python",
      "name": "python",
      "nbconvert_exporter": "python",
      "pygments_lexer": "ipython3",
      "version": "3.11.4"
    }
  },
  "nbformat": 4,
  "nbformat_minor": 5
}
